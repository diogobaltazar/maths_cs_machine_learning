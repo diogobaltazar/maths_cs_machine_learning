{
 "cells": [
  {
   "cell_type": "markdown",
   "metadata": {},
   "source": [
    "## A Notebook for Mathematics, Computer Science and Machine Learning\n",
    "Diogo PEREIRA MARQUES"
   ]
  },
  {
   "cell_type": "markdown",
   "metadata": {},
   "source": [
    "-----\n",
    "# Introduction\n",
    "\n",
    "The present notebook presents and explains important ideas for Computer Science and Machine learning.\n",
    "\n",
    "It accompanies this explanation with the **computer programming ** and **mathematical implementation** of these ideas."
   ]
  },
  {
   "cell_type": "markdown",
   "metadata": {},
   "source": [
    "-----\n",
    "\n",
    "# Supported languages\n",
    "\n",
    "<img src=\"https://upload.wikimedia.org/wikipedia/commons/f/f8/Python_logo_and_wordmark.svg\" alt=\"drawing\" width=\"200\"/> <img src=\"https://hazelcast.org/wp-content/uploads/2016/04/scala-logo.jpg\" alt=\"drawing\" width=\"200\"/>"
   ]
  },
  {
   "cell_type": "code",
   "execution_count": 8,
   "metadata": {},
   "outputs": [],
   "source": [
    "import numpy as np"
   ]
  },
  {
   "cell_type": "markdown",
   "metadata": {},
   "source": [
    "<a id='root'></a>\n",
    "-----\n",
    "\n",
    "# /\n",
    "\n",
    "+ Function Definition\n",
    "+ **Data** [$\\rightleftharpoons$](#data)\n",
    "    + Data Structures [$\\rightleftharpoons$](#data_structures)\n",
    "    + Data Types and Operators [$\\rightleftharpoons$](#data_types)\n",
    "        + Simple\n",
    "            + Numbers\n",
    "            + Words\n",
    "        + Complex\n",
    "            + Image [$\\rightleftharpoons$](#image)\n",
    "            + Vectors and Matrices\n",
    "            + Sets and Classes\n",
    "            + Algebra\n",
    "                + Composite [$\\rightleftharpoons$](#composite)\n",
    "                + Functions and Properties [$\\rightleftharpoons$](#functions_properties)\n",
    "                + Random variable [$\\rightleftharpoons$](#random_variable)\n",
    "                + Probability [$\\rightleftharpoons$](#probability)\n",
    "                    + Conditional Probability [$\\rightleftharpoons$](#conditional_probability)\n",
    "                + Differentiation [$\\rightleftharpoons$](#differentiation)\n",
    "            + Time\n",
    "        + Lexic\n",
    "        + Data Type Equivalence Operations\n",
    "+ **Computer Programming Language**\n",
    "    + Local File System Access\n",
    "    + Method Definition\n",
    "        + Remarks\n",
    "    + Computer Application/Program\n",
    "        + Application Structure\n",
    "            + Packages\n",
    "    + Properties\n",
    "        + Lazy and Greedy Evaluation\n",
    "        + Class Hierarchy\n",
    "        + List Comprehension\n",
    "        + Curry Functions\n",
    "        + Indentation sensibility\n",
    "        + Readability\n",
    "        + Complexity and Performance\n",
    "        + Mutability and Immutability\n",
    "        + Side-effect Operations\n",
    "        + Substitution Model\n",
    "        + Evaluation strategies: Call-by-value and Call-by-name\n",
    "        + Call-by-value and Call-by-reference\n",
    "        + Conditional expressions\n",
    "        + Recursion and Tail Recursion\n",
    "        + Objects\n",
    "        + Exception Handling\n",
    "+ **Artificial Intelligence** [$\\rightleftharpoons$](#ai)\n",
    "    + Machine Learning [$\\rightleftharpoons$](#machine_learning)\n",
    "        + Deep Learning [$\\rightleftharpoons$](#deep_learning)\n",
    "            + Neural Networks [$\\rightleftharpoons$](#neural_networks)\n",
    "                + Recurrent Neural Networks\n",
    "                + Standard Neural Networks\n",
    "                + Convolutional Neural Networks\n",
    "            + Supervised Learning [$\\rightleftharpoons$](#deep_learning)\n",
    "            + Binary Classification [$\\rightleftharpoons$](#binary_classification)\n",
    "                + Logistic Regression [$\\rightleftharpoons$](#logistic_regression)\n",
    "                + Cost and Loss Functions [$\\rightleftharpoons$](#cost_loss_functions)\n",
    "                + Gradient Descent [$\\rightleftharpoons$](#gradient_descent)\n",
    "            + Computation Graph [$\\rightleftharpoons$](#deep_learning)\n",
    "            + Logistic Regression and Gradient Descent [$\\rightleftharpoons$](#deep_learning)\n",
    "            + Vectorization [$\\rightleftharpoons$](#deep_learning)\n",
    "+ **Meta**\n",
    "    + New Markdown Cell\n",
    "    + Code Block\n",
    "    + Maths and Latex\n",
    "    + HTML\n",
    "    + Kernel Cell"
   ]
  },
  {
   "cell_type": "markdown",
   "metadata": {},
   "source": [
    "<a id='data'></a>\n",
    "[/](#root)\n",
    "\n",
    "-----\n",
    "\n",
    "# Data\n",
    "\n",
    "Data can be either **structured** or **unstructured**. Human processors are excellent at extrapolating information from the undestructured sort, mechanic processors from the structured sort. Structured data has a **data type**, and data types are either **simple** or **complex**."
   ]
  },
  {
   "cell_type": "markdown",
   "metadata": {},
   "source": [
    "<a id='data_types'></a>\n",
    "[/ Data](#data)\n",
    "\n",
    "-----\n",
    "\n",
    "# Data Types\n",
    "\n",
    "*Entities* belong to *simple* or *complex* data types. Elements of **NUMBERS** represent entities called *quantities*. Numbers from $\\mathbb{R}$ to $\\mathbb{C}$ represent **continuous** quantities. All other data types sets represent **discrete** entities: $\\mathbb{Z}$, $\\mathbb{Q}$, **STRING**, etc.\n",
    "\n",
    "\n",
    "Only **human processors** can understand continuous quantities, **mecanic processors** can only understand discrete quantities.\n",
    "\n",
    "<a id='data_type_closure'></a>\n",
    "[/ Data / Data Types](#data_types)\n",
    "\n",
    "-----\n",
    "\n",
    "# Closure\n",
    "\n",
    "All elements of a given data type $\\mathbb{D}$ are **closed under certain operations $\\mathbb{O}$**, *i.e.*, each element of $\\mathbb{D}$ is equivalent to *n* elements of $\\mathbb{D}$, related to one another through some *n*-ary relation/operation $\\odot \\in \\mathbb{O}$. \n",
    "\n",
    "Typically $\\mathbb{D}$ is refered to both by its' elements and by its' relations $\\mathbb{O}$.\n"
   ]
  },
  {
   "cell_type": "markdown",
   "metadata": {},
   "source": [
    "<a id='symbol'></a>\n",
    "[/ Data / Data Types](#data_types)\n",
    "\n",
    "-----\n",
    "\n",
    "# Symbolic Representation\n",
    "\n",
    "Each *data type* has it's own *symbolic representation*, which in turn has it's own *lexic of symbols*.\n",
    "Symbols can be either **alpha-numerical** (characters) or **numerical** (digits). Sequences of digits are called **numbers**, sequences of characters are called **words**.\n",
    "\n",
    "<a id='symbol'></a>\n",
    "[/ Data / Data Types / Symbolic Representation](#symbol)\n",
    "\n",
    "-----\n",
    "\n",
    "# Lexic\n",
    "\n",
    "The lexic is composed of elements of the set **CHARACTERS** and the NULL element $\\epsilon$, the *symbol without symbol*.\n",
    "\n",
    "+ **CHARACTERS** = $\\mathbb{UNICODE}$ $\\bigcup \\{ \\epsilon \\}$ = { [unicode](https://unicode-table.com/en/) } $\\bigcup \\{ \\epsilon \\}$\n",
    "\n",
    "+ **NUMERICAL_CHARACTERS** = { 0, 1, 2, 3, 4, 5, 6, 7, 8, 9 }\n",
    "\n",
    "+ **ALPHA_NUMERICAL_CHARACTERS** = **CHARACTERS** - **NUMERICAL_CHARACTERS**\n",
    "\n",
    "\n",
    "Note that:\n",
    "\n",
    "+ Characters **do not** represent data. 1 represents the natural number 1, '1' is the character used to represent the natural number 1. As we see in this example, neither the characters nor the integers are not closed under the operation of **concatenation, +**, whilst the integers are closed under the operation **addition, +**.\n",
    "\n",
    "\n",
    "\n",
    "<center>**1** = '1' + $\\epsilon$</center>\n",
    "\n",
    "<center>**1 + 1** = '1' + ' ' + '+' + '1' = **2**</center>\n",
    "\n",
    "\n",
    "\n",
    "\n"
   ]
  },
  {
   "cell_type": "code",
   "execution_count": 51,
   "metadata": {},
   "outputs": [
    {
     "name": "stdout",
     "output_type": "stream",
     "text": [
      "False\n"
     ]
    }
   ],
   "source": [
    "a = '1'\n",
    "b = 1\n",
    "\n",
    "print(\n",
    "    a == b\n",
    ")"
   ]
  },
  {
   "cell_type": "markdown",
   "metadata": {},
   "source": [
    "+ Some characters convey meaning not about the *fact* that the word represents, but meaning about **how to display the word** to the word interpreter. These characters are usually refered to as **white-space** characters."
   ]
  },
  {
   "cell_type": "code",
   "execution_count": 52,
   "metadata": {},
   "outputs": [
    {
     "name": "stdout",
     "output_type": "stream",
     "text": [
      "11\n",
      "1\t1\n",
      "1\n",
      "1\n"
     ]
    }
   ],
   "source": [
    "print(\"11\")\n",
    "print(\"1\\t1\")\n",
    "print(\"1\\n1\")"
   ]
  },
  {
   "cell_type": "markdown",
   "metadata": {},
   "source": [
    "-----\n",
    "Data Types > Simple Data Types\n",
    "\n",
    "# Boolean Values\n",
    "\n",
    "**BOOLEAN** = { *true*, *false* }. Elements of BOOLEAN represent the concepts of *true* and *false*. BOOLEAN is closed under:\n",
    "+ Equality, $=$\n",
    "+ Inequality, $\\neq$\n",
    "+ Disjunction, $\\bigvee$\n",
    "+ Conjunction, $\\bigwedge$\n",
    "+ Negation, \n",
    "\n",
    "BOOLEAN elements are usually equivalent to **expression evaluation**."
   ]
  },
  {
   "cell_type": "markdown",
   "metadata": {},
   "source": [
    "-----\n",
    "Data Types.Simple Data Types.\n",
    "# Numbers\n",
    "\n",
    "\n",
    "\n",
    "+ $\\mathbb{N}$, **natural** numbers: positive integers\n",
    "\n",
    "+ $\\mathbb{Z}$, **integer** numbers: negative and positive integers and 0\n",
    "\n",
    "+ $\\mathbb{Q}$, **rational** numbers: finite decimal value, or periodic infinite decimal value\n",
    "\n",
    "+ $\\mathbb{R}$, **real** numbers: rational and irrational numbers\n",
    "\n",
    "+ $\\mathbb{C}$, **complex** numbers: real and imaginary numbers"
   ]
  },
  {
   "cell_type": "markdown",
   "metadata": {},
   "source": [
    "# Rational Numbers, $\\mathbb{Q}$ | PY\n",
    "\n",
    "[operators](https://docs.python.org/2/library/math.html)"
   ]
  },
  {
   "cell_type": "markdown",
   "metadata": {},
   "source": [
    "-----\n",
    "Data Types.Complex Data Types.\n",
    "# String"
   ]
  },
  {
   "cell_type": "markdown",
   "metadata": {},
   "source": [
    "<a id='image'></a>\n",
    "[/ Data / Data Types / Complex](#data)\n",
    "\n",
    "-----\n",
    "\n",
    "# Image\n",
    "\n",
    "Images are $m \\in \\mathbb{M}_{h x l}^3 ([0, 255])$, where $h, l$ are the height and the length of the image, and the $m_{i, j}$ are the Red, Green and Blue values. Typically images are **encoded** to columnar vectors $m \\in \\mathbb{M}_{h x l x 3} ([0, 255])$\n",
    "\n",
    "<a id='functions_properties'></a>\n",
    "[/ Data / Data Types / Algebra / Function](#data)\n",
    "\n",
    "-----\n",
    "\n",
    "# Functions and Properties\n",
    "\n",
    "| | | |\n",
    "| --- | --- | --- |\n",
    "| |[convex](http://mathworld.wolfram.com/ConvexFunction.html) | |\n",
    "| [log](http://mathworld.wolfram.com/Logarithm.html) | yes | | \n",
    "\n",
    "<a id='composite'></a>\n",
    "[/ Data / Data Types / Algebra / Function](#data)\n",
    "\n",
    "# Composite\n",
    "\n",
    "$$f_{1\\,.\\,.\\,n} (x) := (f_{1} \\circ \\cdots \\circ f_{n})(x)\\tag{1}$$\n",
    "$$f_{1\\,.\\,.\\,1} = f_1\\tag{2}$$\n",
    "$$f_{1\\,.\\,.\\,a}, a < 1 = id\\tag{3}$$\n",
    "\n",
    "\n",
    "-----\n",
    "\n",
    "# Random Variable\n",
    "\n",
    "<a id='probability'></a>\n",
    "[/ Data / Data Types / Algebra / Function](#data)\n",
    "\n",
    "\n",
    "-----\n",
    "\n",
    "# Random Variable\n",
    "\n",
    "\n",
    "Random variables are functions $P$ atributing a measure of probability to $X$. $P$ is **discrete** if $X$ is a number, $P$ is **continuous** if $X$ is an interval.\n",
    "\n",
    "$$P : \\Omega \\longrightarrow \\mathbb{R} \\tag{1}$$\n",
    "\n",
    "<a id='probability'></a>\n",
    "[/ Data / Data Types / Algebra / Function](#data)\n",
    "\n",
    "-----\n",
    "\n",
    "# Randomness and Probability\n",
    "\n",
    "Attribute **weights** $w_i$  to all elements whithin a set. If $w_i = w_j, i \\neq j$, then the set represents a **random event**, and this is considered as **randomness**. Weights attributed to elements whithin an event, or to an event are called **measure of probability**.\n",
    "\n",
    "<a id='conditional_probability'></a>\n",
    "[/ Data / Data Types / Algebra / Function](#data)\n",
    "\n",
    "-----\n",
    "\n",
    "# Conditional Probability\n",
    "\n",
    "Probability of the event $E_1$ given the probability of an event $E_2$."
   ]
  },
  {
   "cell_type": "markdown",
   "metadata": {},
   "source": [
    "<a id='differentiation'></a>\n",
    "[/ Data / Data Types / Algebra /](#data)\n",
    "\n",
    "-----\n",
    "\n",
    "# Differentiation\n",
    "\n",
    "**Composite** FINISH\n",
    "$$f_{1\\,.\\,.\\,n}'(x) = f_1' \\left( f_{2\\,.\\,.\\,n}(x) \\right) \\; f_2' \\left( f_{3\\,.\\,.\\,n}(x) \\right) \\cdots f_{n-1}' \\left(f_{n\\,.\\,.\\,n}(x)\\right) \\; f_n'(x) = \\prod_{k=1}^{n} f_k' \\left(f_{(k+1\\,.\\,.\\,n)}(x) \\right)\\tag{1}$$\n",
    "\n",
    "$$f_{1\\,.\\,.\\,n}'(x) = f_1' \\left( u_1 \\right) \\; u_1' \\left( u_2 \\right) \\cdots u_{n-2}' \\left(u_{n-1}\\right) \\; u_{n-1}'(x) = \\prod_{k=1}^{n} f_k' \\left(f_{(k+1\\,.\\,.\\,n)}(x) \\right)\\tag{2}$$\n",
    "\n",
    "$$ u_{i} = f_{i + 1\\,.\\,.\\,n}\\tag{3}$$"
   ]
  },
  {
   "cell_type": "markdown",
   "metadata": {},
   "source": [
    "-----\n",
    "Data Types.Complex Data Types.\n",
    "# Series\n",
    "\n",
    "[mathematical]()\n",
    "\n",
    "# Series | PY\n",
    "\n",
    "Series are **NumPy.Arrays** of arrays, or arrays, although the **first have more operations**.\n",
    "\n",
    "\n",
    "**Properties**\n",
    "+ Enumerable\n",
    "\n",
    "\n",
    "\n",
    "Let:"
   ]
  },
  {
   "cell_type": "code",
   "execution_count": 2,
   "metadata": {},
   "outputs": [
    {
     "ename": "NameError",
     "evalue": "name 'np' is not defined",
     "output_type": "error",
     "traceback": [
      "\u001b[1;31m---------------------------------------------------------------------------\u001b[0m",
      "\u001b[1;31mNameError\u001b[0m                                 Traceback (most recent call last)",
      "\u001b[1;32m<ipython-input-2-c29004ad4e56>\u001b[0m in \u001b[0;36m<module>\u001b[1;34m()\u001b[0m\n\u001b[1;32m----> 1\u001b[1;33m \u001b[0ms1\u001b[0m \u001b[1;33m=\u001b[0m \u001b[0mnp\u001b[0m\u001b[1;33m.\u001b[0m\u001b[0marray\u001b[0m\u001b[1;33m(\u001b[0m\u001b[1;33m[\u001b[0m\u001b[1;33m[\u001b[0m\u001b[1;36m1\u001b[0m\u001b[1;33m,\u001b[0m\u001b[1;36m2\u001b[0m\u001b[1;33m]\u001b[0m\u001b[1;33m,\u001b[0m \u001b[1;33m[\u001b[0m\u001b[1;36m2\u001b[0m\u001b[1;33m,\u001b[0m\u001b[1;36m3\u001b[0m\u001b[1;33m]\u001b[0m\u001b[1;33m,\u001b[0m \u001b[1;33m[\u001b[0m\u001b[1;36m3\u001b[0m\u001b[1;33m,\u001b[0m\u001b[1;36m3\u001b[0m\u001b[1;33m]\u001b[0m\u001b[1;33m]\u001b[0m\u001b[1;33m)\u001b[0m\u001b[1;33m\u001b[0m\u001b[0m\n\u001b[0m\u001b[0;32m      2\u001b[0m \u001b[1;33m\u001b[0m\u001b[0m\n\u001b[0;32m      3\u001b[0m \u001b[0ms2\u001b[0m \u001b[1;33m=\u001b[0m \u001b[0mnp\u001b[0m\u001b[1;33m.\u001b[0m\u001b[0marray\u001b[0m\u001b[1;33m(\u001b[0m\u001b[1;33m[\u001b[0m\u001b[1;36m1\u001b[0m\u001b[1;33m,\u001b[0m \u001b[1;36m2\u001b[0m\u001b[1;33m,\u001b[0m \u001b[1;36m3\u001b[0m\u001b[1;33m]\u001b[0m\u001b[1;33m)\u001b[0m\u001b[1;33m\u001b[0m\u001b[0m\n\u001b[0;32m      4\u001b[0m \u001b[1;33m\u001b[0m\u001b[0m\n\u001b[0;32m      5\u001b[0m print(\n",
      "\u001b[1;31mNameError\u001b[0m: name 'np' is not defined"
     ]
    }
   ],
   "source": [
    "s1 = np.array([[1,2], [2,3], [3,3]])\n",
    "\n",
    "s2 = np.array([1, 2, 3])\n",
    "\n",
    "print(\n",
    "    \"s1:\\n\" + str(s1)\n",
    "    \n",
    "    + \"\\n\\ns2:\\n\" + str(s2)\n",
    ")"
   ]
  },
  {
   "cell_type": "markdown",
   "metadata": {},
   "source": [
    "-----\n",
    "Series.\n",
    "# Operations | PY\n",
    "\n",
    "+ list comprehension\n",
    "+ [further]()\n",
    "\n",
    "**List comprehension**\n"
   ]
  },
  {
   "cell_type": "code",
   "execution_count": 4,
   "metadata": {},
   "outputs": [
    {
     "name": "stdout",
     "output_type": "stream",
     "text": [
      "['a', 'c', 'e']\n",
      "['b', 'd', 'f']\n"
     ]
    }
   ],
   "source": [
    "l = [[\"a\",\"b\"],[\"c\",\"d\"], [\"e\",\"f\"]]\n",
    "print([i for [i, _] in l])\n",
    "print([i[1] for i in l])\n",
    "apple_prices = [100, 101, 102, 105]\n",
    "apple_prices_doubled = [ i*2 for i in apple_prices ]\n",
    "apple_prices_lowered = [ i - 100 for i in apple_prices ]"
   ]
  },
  {
   "cell_type": "markdown",
   "metadata": {},
   "source": [
    "-----\n",
    "Series.\n",
    "# Useful | PY"
   ]
  },
  {
   "cell_type": "markdown",
   "metadata": {},
   "source": [
    "A trick when you want to flatten a matrix X of shape (a,b,c,d) to a matrix X_flatten of shape (b ∗∗ c ∗∗ d, a) is to use:"
   ]
  },
  {
   "cell_type": "code",
   "execution_count": 16,
   "metadata": {},
   "outputs": [
    {
     "name": "stdout",
     "output_type": "stream",
     "text": [
      "(1, 24)\n",
      "train_imgs:\n",
      "[[[[ 32 128  64]\n",
      "   [ 32 128  64]]\n",
      "\n",
      "  [[ 32 128  64]\n",
      "   [ 32 128  64]]]\n",
      "\n",
      "\n",
      " [[[ 32 128  64]\n",
      "   [ 32 128  64]]\n",
      "\n",
      "  [[ 32 128  64]\n",
      "   [ 32 128  64]]]]\n",
      "\n",
      "train_imgs_flatten:\n",
      "[[ 32 128  64  32 128  64  32 128  64  32 128  64  32 128  64  32 128  64\n",
      "   32 128  64  32 128  64]]\n"
     ]
    }
   ],
   "source": [
    "rgb_value = np.array([32, 128, 64])\n",
    "\n",
    "# 2x2 images\n",
    "img_1 = np.array([[rgb_value, rgb_value], [rgb_value, rgb_value]])\n",
    "img_2 = np.array([[rgb_value, rgb_value], [rgb_value, rgb_value]])\n",
    "\n",
    "# 2 images\n",
    "train_imgs = np.array([img_1, img_2])\n",
    "\n",
    "# flattening\n",
    "train_imgs_flatten = train_imgs.reshape(24, -1).T\n",
    "\n",
    "print(\n",
    "    \"train_imgs:\\n\"\n",
    "    + str(train_imgs)\n",
    "    \n",
    "    + \"\\n\\ntrain_imgs_flatten:\\n\"\n",
    "    + str(train_imgs_flatten)    \n",
    ")"
   ]
  },
  {
   "cell_type": "markdown",
   "metadata": {},
   "source": [
    "-----\n",
    "Data Types.Complex Data Types.\n",
    "# Sets\n",
    "\n",
    "[mathematical]()\n",
    "\n",
    "# Sets | PY\n",
    "\n",
    "Sets are **Set** of **NumPy.Array** or arrays.\n",
    "\n",
    "**Properties**\n",
    "+ Unordered\n",
    "+ Without repetition\n",
    "\n",
    "Let **S1** such that:"
   ]
  },
  {
   "cell_type": "code",
   "execution_count": 54,
   "metadata": {},
   "outputs": [
    {
     "name": "stdout",
     "output_type": "stream",
     "text": [
      "S1:\n",
      "{2, 3}\n"
     ]
    }
   ],
   "source": [
    "S1 = set([ row[1] for row in s1])\n",
    "\n",
    "print(\n",
    "    \"S1:\\n\" + str(S1)\n",
    ")"
   ]
  },
  {
   "cell_type": "markdown",
   "metadata": {},
   "source": [
    "-----\n",
    "Data Types.Complex Data Types\n",
    "\n",
    "# Matrices\n",
    "\n",
    "[mathematical](http://mathworld.wolfram.com/Matrix.html)\n",
    "\n",
    "# Matrices | PY\n",
    "\n",
    "Matrices are specific sort of **Series**.\n",
    "\n",
    "**Properties**\n",
    "+ Its' elements $e$ are also series (but not recursively)\n",
    "+ len($e_i$) = len($e_j$), $i \\neq j$"
   ]
  },
  {
   "cell_type": "markdown",
   "metadata": {},
   "source": [
    "Let,"
   ]
  },
  {
   "cell_type": "code",
   "execution_count": 19,
   "metadata": {},
   "outputs": [
    {
     "name": "stdout",
     "output_type": "stream",
     "text": [
      "Scalar values:\n",
      "a: 0\n",
      "b: 2\n",
      "\n",
      "A:\n",
      "[[1 1]\n",
      " [2 2]\n",
      " [3 3]]\n",
      "\n",
      "C:\n",
      "[[2 2 2]\n",
      " [3 3 3]]\n",
      "\n",
      "B:\n",
      "[[1, 1], [2, 2], [3, 3]]\n",
      "\n"
     ]
    }
   ],
   "source": [
    "# Scalar values\n",
    "a = 0\n",
    "b = 2\n",
    "\n",
    "# Matrices\n",
    "A = np.array([[1, 1], [2, 2], [3, 3]])\n",
    "C = np.array([[2, 2, 2], [3, 3, 3]])\n",
    "B = [[1, 1], [2, 2], [3, 3]] # classical array\n",
    "\n",
    "print(\n",
    "    \"Scalar values:\\n\"\n",
    "    + \"a: \" + str(a)\n",
    "    + \"\\nb: \" + str(b)\n",
    ")\n",
    "print(\"\\nA:\\n\" + str(A) + \"\\n\")\n",
    "print(\"C:\\n\" + str(C) + \"\\n\")\n",
    "print(\"B:\\n\" + str(B) + \"\\n\")"
   ]
  },
  {
   "cell_type": "markdown",
   "metadata": {},
   "source": [
    "------\n",
    "\n",
    "### Matrices.Contents\n",
    "\n",
    "+ Declaration\n",
    "+ Number of rows, columns and elements\n",
    "+ Accessing elements\n",
    "+ **Remarks**"
   ]
  },
  {
   "cell_type": "code",
   "execution_count": 109,
   "metadata": {},
   "outputs": [
    {
     "name": "stdout",
     "output_type": "stream",
     "text": [
      "A:\n",
      "\n",
      "shape / dimension: (3, 2)\n",
      "size / #elements: 6\n",
      "len / #rows: 3 or 3\n",
      "#columns: 2 or 2\n",
      "\n",
      "C:\n",
      "\n",
      "shape / dimension: (2, 3)\n",
      "size / #elements: 6\n",
      "len / #rows: 2 or 2\n",
      "#columns: 3 or 3\n",
      "\n",
      "B:\n",
      "\n",
      "dimension: (3, 2)\n",
      "#elements:6\n",
      "len / #rows: 3\n",
      "#columns: 2\n"
     ]
    }
   ],
   "source": [
    "print(\"A:\\n\")\n",
    "print(\"shape / dimension: \" + str(A.shape))\n",
    "print(\"size / #elements: \" + str(A.size))\n",
    "print(\"len / #rows: \" + str(len(A)) + \" or \" + str(A.shape[0]))\n",
    "print(\"#columns: \" + str(len(A[0])) + \" or \" + str(A.shape[1]))\n",
    "\n",
    "print(\"\\nC:\\n\")\n",
    "print(\"shape / dimension: \" + str(C.shape))\n",
    "print(\"size / #elements: \" + str(C.size))\n",
    "print(\"len / #rows: \" + str(len(C)) + \" or \" + str(C.shape[0]))\n",
    "print(\"#columns: \" + str(len(C[0])) + \" or \" + str(C.shape[1]))\n",
    "\n",
    "print(\"\\nB:\\n\")\n",
    "print(\"dimension: (\" + str(len(B)) + \", \" + str(len(B[0])) + \")\") \n",
    "print(\"#elements:\" + str(len(B) * len(B[0])))\n",
    "print(\"len / #rows: \" + str(len(B)))\n",
    "print(\"#columns: \" + str(len(B[0])))"
   ]
  },
  {
   "cell_type": "markdown",
   "metadata": {},
   "source": [
    "### Matrices.Contents.Remarks:\n",
    "Remarks on the behaviour of **size** and **len**:"
   ]
  },
  {
   "cell_type": "code",
   "execution_count": 57,
   "metadata": {},
   "outputs": [
    {
     "name": "stdout",
     "output_type": "stream",
     "text": [
      "#elements for [[1, 2], [3, 4]]: 4\n",
      "#elements for [1, 2, 3, 4]: 4\n",
      "\n",
      "#rows for [1, 2, 3]: 3\n",
      "#rows for [[1, 2, 3]]: 1\n",
      "\n",
      "no columns for [1, 2, 3]\n",
      "#columns  for [[1, 2, 3]]: 3\n",
      "\n"
     ]
    }
   ],
   "source": [
    "print(\n",
    "    \"#elements for [[1, 2], [3, 4]]: \" + str(np.array([[1, 2], [3, 4]]).size)\n",
    "    + \"\\n#elements for [1, 2, 3, 4]: \" + str(np.array([[1, 2], [3, 4]]).size)\n",
    "    \n",
    "    + \"\\n\\n#rows for [1, 2, 3]: \" + str(len([1, 2, 3]))\n",
    "    + \"\\n#rows for [[1, 2, 3]]: \" + str(len([[1, 2, 3]]))\n",
    "    \n",
    "    + \"\\n\\nno columns for [1, 2, 3]\\n\"\n",
    "    + \"#columns  for [[1, 2, 3]]: \" + str(len([[1, 2, 3]][0])) + \"\\n\"\n",
    ")"
   ]
  },
  {
   "cell_type": "markdown",
   "metadata": {},
   "source": [
    "------\n",
    "Matrice.\n",
    "\n",
    "# Operations\n",
    "\n",
    "+ Operations\n",
    "    + Transpose\n",
    "    + Inverse | [py](https://docs.scipy.org/doc/numpy/reference/generated/numpy.linalg.inv.html)\n",
    "    + Sum\n",
    "    + Product\n",
    "    + Other\n",
    "        + Reshape | [py](https://docs.scipy.org/doc/numpy/reference/generated/numpy.reshape.html)\n",
    "        + **Broadcasting** | [py](https://docs.scipy.org/doc/numpy-1.13.0/user/basics.broadcasting.html)\n",
    "        + Matrix Manipulation\n",
    "+ Remarks\n",
    "    + Rank 1 matrices"
   ]
  },
  {
   "cell_type": "markdown",
   "metadata": {},
   "source": [
    "# Transpose | PY"
   ]
  },
  {
   "cell_type": "code",
   "execution_count": 70,
   "metadata": {},
   "outputs": [
    {
     "name": "stdout",
     "output_type": "stream",
     "text": [
      "Transpose, A^T:\n",
      "[[1 2 3]\n",
      " [1 2 3]]\n",
      "or\n",
      "[[1 2 3]\n",
      " [1 2 3]]\n"
     ]
    }
   ],
   "source": [
    "print(\"Transpose, A^T:\\n\" + str(A.transpose()) + \"\\nor\\n\" + str(A.T))"
   ]
  },
  {
   "cell_type": "markdown",
   "metadata": {},
   "source": [
    "# Addition | PY"
   ]
  },
  {
   "cell_type": "code",
   "execution_count": 24,
   "metadata": {},
   "outputs": [
    {
     "name": "stdout",
     "output_type": "stream",
     "text": [
      "\n",
      "Sum, A + A:\n",
      "[[2 2]\n",
      " [4 4]\n",
      " [6 6]]\n",
      "\n"
     ]
    }
   ],
   "source": [
    "print(\"\\nSum, A + A:\\n\" + str(A + A) + \"\\n\")"
   ]
  },
  {
   "cell_type": "markdown",
   "metadata": {},
   "source": [
    "# Addition* | PY\n",
    "\n",
    "+ Matrix Addition*\n",
    "$$(R, C) + (1, 1) \\longrightarrow (R, C)\\tag{1}$$\n",
    "$$(R, C) + (R, 1) \\longrightarrow (R, C)\\tag{2}$$\n",
    "$$(R, C) + (R, C) \\longrightarrow (R, C)\\tag{3}$$"
   ]
  },
  {
   "cell_type": "code",
   "execution_count": 25,
   "metadata": {},
   "outputs": [
    {
     "name": "stdout",
     "output_type": "stream",
     "text": [
      "Addition*, A + B:\n",
      "[[2 3 4]\n",
      " [2 3 4]]\n",
      "\n",
      "Addition*, A + C:\n",
      "[[2 3 4]\n",
      " [2 3 4]]\n"
     ]
    }
   ],
   "source": [
    "A = np.array([[1, 2, 3], [1, 2, 3]])\n",
    "\n",
    "B = np.array([[1], [1]])\n",
    "\n",
    "C = np.array([1])\n",
    "\n",
    "print(\n",
    "    \"Addition*, A + B:\\n\"\n",
    "    + str(A + B)\n",
    "    \n",
    "    + \"\\n\\nAddition*, A + C:\\n\"\n",
    "    + str(A + C)\n",
    ")"
   ]
  },
  {
   "cell_type": "markdown",
   "metadata": {},
   "source": [
    "# Multiplication\n",
    "\n",
    "+ Inner Product\n",
    "+ Outer Product\n",
    "+ Elementwise Product\n",
    "+ Scalar Product"
   ]
  },
  {
   "cell_type": "markdown",
   "metadata": {},
   "source": [
    "# Multiplication | PY"
   ]
  },
  {
   "cell_type": "code",
   "execution_count": 72,
   "metadata": {},
   "outputs": [
    {
     "name": "stdout",
     "output_type": "stream",
     "text": [
      "\n",
      "Inner product, AC:\n",
      "[[ 5  5  5]\n",
      " [10 10 10]\n",
      " [15 15 15]]\n",
      "\n",
      "\n",
      "Outer product, A o C:\n",
      "[[2 2 2 3 3 3]\n",
      " [2 2 2 3 3 3]\n",
      " [4 4 4 6 6 6]\n",
      " [4 4 4 6 6 6]\n",
      " [6 6 6 9 9 9]\n",
      " [6 6 6 9 9 9]]\n",
      "\n",
      "\n",
      "Scalar product, A o a:\n",
      "[[0 0]\n",
      " [0 0]\n",
      " [0 0]]\n",
      "or:\n",
      "[[0 0]\n",
      " [0 0]\n",
      " [0 0]]\n"
     ]
    }
   ],
   "source": [
    "print(\"\\nInner product, AC:\\n\" + str(np.dot(A, C)) + \"\\n\")\n",
    "\n",
    "print(\"\\nOuter product, A o C:\\n\" + str(np.outer(A, C)) + \"\\n\")\n",
    "\n",
    "print(\"\\nScalar product, A o a:\\n\" + str(np.dot(A, a)) + \"\\n\" + \"or:\\n\" + str(A * a))\n"
   ]
  },
  {
   "cell_type": "markdown",
   "metadata": {},
   "source": [
    "# Division | PY\n",
    "\n",
    "+ Scalar division\n",
    "    + (R, C) / a $\\longrightarrow$ (R, C)\n",
    "+ Matrix division\n",
    "    + (R, C) / (1, 1) $\\longrightarrow$ (1, 1)\n",
    "    + (R, C) / (1, C) $\\longrightarrow$ (R, C)\n",
    "    + (R, C) / (R, C) $\\longrightarrow$ (R, C)\n",
    "    "
   ]
  },
  {
   "cell_type": "code",
   "execution_count": 148,
   "metadata": {},
   "outputs": [
    {
     "name": "stdout",
     "output_type": "stream",
     "text": [
      "Scalar division, A / a:\n",
      "[[4. 4.]\n",
      " [4. 4.]\n",
      " [4. 4.]]\n",
      "\n",
      "Matrix division, A / B:\n",
      "[[4. 4.]\n",
      " [4. 4.]\n",
      " [4. 4.]]\n"
     ]
    }
   ],
   "source": [
    "a = 0.5\n",
    "la = [a, a]\n",
    "A = np.array([[2, 2], [2, 2], [2, 2]]) # shape (3,2)\n",
    "B = np.array(la)\n",
    "\n",
    "print(\n",
    "    \"Scalar division, A / a:\\n\"\n",
    "    + str(A / a)\n",
    "    \n",
    "    + \"\\n\\nMatrix division, A / B:\\n\"\n",
    "    + str(A / B)\n",
    ")"
   ]
  },
  {
   "cell_type": "markdown",
   "metadata": {},
   "source": [
    "# Multiplication* | PY\n",
    "\n",
    "+ Matrix multiplication*\n",
    "    + (R, C) * (1, 1) $\\longrightarrow$ (R, C)\n",
    "    + (R, C) * (1, C) $\\longrightarrow$ (R, C)\n",
    "    + (R, C) * (R, C) $\\longrightarrow$ (R, C)"
   ]
  },
  {
   "cell_type": "code",
   "execution_count": 162,
   "metadata": {},
   "outputs": [
    {
     "name": "stdout",
     "output_type": "stream",
     "text": [
      "Matrix multiplication, A * B:\n",
      "[[1. 1.]\n",
      " [1. 1.]\n",
      " [1. 1.]]\n"
     ]
    }
   ],
   "source": [
    "a = 0.5\n",
    "la = [a, a]\n",
    "A = np.array([[2, 2], [2, 2], [2, 2]]) # shape (3,2)\n",
    "B = np.array(la)\n",
    "\n",
    "print(    \n",
    "    \"Matrix multiplication, A * B:\\n\"\n",
    "    + str(A * la)\n",
    ")"
   ]
  },
  {
   "cell_type": "markdown",
   "metadata": {},
   "source": [
    "# Reshape | PY"
   ]
  },
  {
   "cell_type": "code",
   "execution_count": 59,
   "metadata": {},
   "outputs": [
    {
     "name": "stdout",
     "output_type": "stream",
     "text": [
      "Reshaping A to A.size rows and 1 column:\n",
      "[[1]\n",
      " [1]\n",
      " [2]\n",
      " [2]\n",
      " [3]\n",
      " [3]]\n",
      "Reshaping C to 1 row and C.size columns:\n",
      "[[2 2 2 3 3 3]]\n"
     ]
    }
   ],
   "source": [
    "print(\n",
    "    \"Reshaping A to A.size rows and 1 column:\\n\" \n",
    "    + str(A.reshape(A.size, 1))\n",
    "    \n",
    "    + \"\\nReshaping C to 1 row and C.size columns:\\n\"\n",
    "    + str(C.reshape(1, C.size))\n",
    ")"
   ]
  },
  {
   "cell_type": "markdown",
   "metadata": {},
   "source": [
    "### Matrices.Contents.Operations.Other.Broadcasting | py"
   ]
  },
  {
   "cell_type": "markdown",
   "metadata": {},
   "source": [
    "### Matrices.Contents.Operations.Other.Matrix Manipulation | py"
   ]
  },
  {
   "cell_type": "code",
   "execution_count": 60,
   "metadata": {},
   "outputs": [
    {
     "name": "stdout",
     "output_type": "stream",
     "text": [
      "Sum all A rows (collapse to single row):\n",
      "[6 6]\n",
      "preferably:\n",
      "[[6 6]]\n",
      "\n",
      "Sum all A columns (collapse to single column):\n",
      "[2 4 6]\n",
      "preferably:\n",
      "[[2]\n",
      " [4]\n",
      " [6]]\n"
     ]
    }
   ],
   "source": [
    "print(\n",
    "    \"Sum all A rows (collapse to single row):\\n\"\n",
    "    + str(A.sum(axis = 0))\n",
    "    + \"\\npreferably:\\n\"\n",
    "    + str(A.sum(axis = 0).reshape(1, len(A[0])))\n",
    "    \n",
    "    + \"\\n\\nSum all A columns (collapse to single column):\\n\"\n",
    "    + str(A.sum(axis = 1))\n",
    "    + \"\\npreferably:\\n\"\n",
    "    + str(A.sum(axis = 1).reshape(len(A), 1))\n",
    ")"
   ]
  },
  {
   "cell_type": "markdown",
   "metadata": {},
   "source": [
    "### Matrices.Contents.Remarks.Rank 1 Matrices | py\n",
    "\n",
    "**shape** returns a **rank 1** list. Reshaped it to a **non-rank 1** matrice. Numerous bugs arrive from rank 1 lists."
   ]
  },
  {
   "cell_type": "code",
   "execution_count": 23,
   "metadata": {},
   "outputs": [
    {
     "name": "stdout",
     "output_type": "stream",
     "text": [
      "Shape of sum of all A rows (collapse to single row):\n",
      "(2,)\n",
      "\n",
      "Shape of reshaped sum of all A rows (collapse to single row):\n",
      "(1, 2)\n"
     ]
    }
   ],
   "source": [
    "A = np.array([[1, 1], [2, 2], [3, 3]])\n",
    "\n",
    "print(\n",
    "    \"Shape of sum of all A rows (collapse to single row):\\n\"\n",
    "    + str(A.sum(axis = 0).shape)\n",
    "    \n",
    "    + \"\\n\\nShape of reshaped sum of all A rows (collapse to single row):\\n\"\n",
    "    + str(A.sum(axis = 0).reshape(1, len(A[0])).shape)\n",
    ")"
   ]
  },
  {
   "cell_type": "markdown",
   "metadata": {},
   "source": [
    "# Primitive Operators\n",
    "\n",
    "Arithmetic python scala\n",
    "\n",
    "Logical python scala"
   ]
  },
  {
   "cell_type": "markdown",
   "metadata": {},
   "source": [
    "-----\n",
    "\n",
    "# Local File System Access"
   ]
  },
  {
   "cell_type": "code",
   "execution_count": 62,
   "metadata": {},
   "outputs": [
    {
     "data": {
      "text/plain": [
       "['advanced_analytics', 'deep_learning', 'machine_learning']"
      ]
     },
     "execution_count": 62,
     "metadata": {},
     "output_type": "execute_result"
    }
   ],
   "source": [
    "import os\n",
    "os.listdir('..')"
   ]
  },
  {
   "cell_type": "markdown",
   "metadata": {},
   "source": [
    "-----\n",
    "# Method Definition"
   ]
  },
  {
   "cell_type": "code",
   "execution_count": 63,
   "metadata": {},
   "outputs": [],
   "source": [
    "def f1(a1, a2):\n",
    "    return a1, a2\n",
    "\n",
    "def f2(a1):\n",
    "    return f1(a, a + a)[1]"
   ]
  },
  {
   "cell_type": "code",
   "execution_count": 64,
   "metadata": {},
   "outputs": [
    {
     "name": "stdout",
     "output_type": "stream",
     "text": [
      "0\n"
     ]
    }
   ],
   "source": [
    "print(\n",
    "    f2(1)\n",
    ")"
   ]
  },
  {
   "cell_type": "markdown",
   "metadata": {},
   "source": [
    "<a id='data_structures'></a>\n",
    "[/ Data](#data)\n",
    "\n",
    "-----\n",
    "# Data Structures\n",
    "\n",
    "Data has a data type. A data type has at least one data structure. We'll suppose for now that it has **one and one only** data structure. We can try and generalize that the data structure of a data type $\\mathbb{D}$ is **how** elements of $\\mathbb{D}$ can be obtained with elements of $\\mathbb{D}*$ through operations of $\\mathbb{O}$.\n",
    "\n",
    "<code>\"string\" = 's' + 't' + 'r' + 'i' + 'n' + 'g' </code>"
   ]
  },
  {
   "cell_type": "code",
   "execution_count": 65,
   "metadata": {},
   "outputs": [
    {
     "name": "stdout",
     "output_type": "stream",
     "text": [
      "Triple:\n",
      "(1, 2, 3)\n",
      "Triple's elements:\n",
      "1 2 3\n",
      "\n",
      "Dictionary:\n",
      "{'x': 1, 'y': 2, 'z': 3}\n",
      "Dictionary's keys:\n",
      "x y z\n",
      "Dictionary's values:\n",
      "1 2 3\n"
     ]
    }
   ],
   "source": [
    "triple = (1,2,3)\n",
    "dictio = {'x' : 1, 'y' : 2, 'z' : 3}\n",
    "\n",
    "print(\n",
    "    \"Triple:\\n\"\n",
    "    + str(triple)\n",
    "    + \"\\nTriple's elements:\\n\"\n",
    "    + (lambda x, y, z : str(x) + \" \" + str(y) + \" \" + str(z))(*triple)\n",
    "    \n",
    "    + \"\\n\\nDictionary:\\n\"\n",
    "    + str(dictio)\n",
    "    + \"\\nDictionary's keys:\\n\"\n",
    "    + (lambda x, y, z : str(x) + \" \" + str(y) + \" \" + str(z))(*dictio)\n",
    "    + \"\\nDictionary's values:\\n\"\n",
    "    + (lambda x, y, z : str(x) + \" \" + str(y) + \" \" + str(z))(**dictio)\n",
    ")"
   ]
  },
  {
   "cell_type": "markdown",
   "metadata": {},
   "source": [
    "-----\n",
    "\n",
    "# Function Definition\n",
    "\n",
    "Lambda functions can't use regular python statements and always include an implicit return statement."
   ]
  },
  {
   "cell_type": "code",
   "execution_count": 66,
   "metadata": {},
   "outputs": [],
   "source": [
    "f3 = lambda x, y: (lambda x : 2 * x)(f2(x + y)) # Non-anonymous and anonymous lambda expressions."
   ]
  },
  {
   "cell_type": "code",
   "execution_count": 47,
   "metadata": {},
   "outputs": [
    {
     "name": "stdout",
     "output_type": "stream",
     "text": [
      "0\n"
     ]
    }
   ],
   "source": [
    "print(\n",
    "    f3(1,1)\n",
    ")"
   ]
  },
  {
   "cell_type": "markdown",
   "metadata": {},
   "source": [
    "### Method Definition.Remarks"
   ]
  },
  {
   "cell_type": "code",
   "execution_count": null,
   "metadata": {},
   "outputs": [],
   "source": []
  },
  {
   "cell_type": "code",
   "execution_count": 48,
   "metadata": {},
   "outputs": [],
   "source": [
    "import numpy as np\n",
    "import time"
   ]
  },
  {
   "cell_type": "code",
   "execution_count": 49,
   "metadata": {},
   "outputs": [
    {
     "ename": "KeyboardInterrupt",
     "evalue": "",
     "output_type": "error",
     "traceback": [
      "\u001b[1;31m---------------------------------------------------------------------------\u001b[0m",
      "\u001b[1;31mKeyboardInterrupt\u001b[0m                         Traceback (most recent call last)",
      "\u001b[1;32m<ipython-input-49-b764db2f52c2>\u001b[0m in \u001b[0;36m<module>\u001b[1;34m()\u001b[0m\n\u001b[0;32m      2\u001b[0m \u001b[1;33m\u001b[0m\u001b[0m\n\u001b[0;32m      3\u001b[0m \u001b[0ma\u001b[0m \u001b[1;33m=\u001b[0m \u001b[0mnp\u001b[0m\u001b[1;33m.\u001b[0m\u001b[0mrandom\u001b[0m\u001b[1;33m.\u001b[0m\u001b[0mrand\u001b[0m\u001b[1;33m(\u001b[0m\u001b[1;36m1000000000\u001b[0m\u001b[1;33m)\u001b[0m\u001b[1;33m\u001b[0m\u001b[0m\n\u001b[1;32m----> 4\u001b[1;33m \u001b[0mb\u001b[0m \u001b[1;33m=\u001b[0m \u001b[0mnp\u001b[0m\u001b[1;33m.\u001b[0m\u001b[0mrandom\u001b[0m\u001b[1;33m.\u001b[0m\u001b[0mrand\u001b[0m\u001b[1;33m(\u001b[0m\u001b[1;36m1000000000\u001b[0m\u001b[1;33m)\u001b[0m\u001b[1;33m\u001b[0m\u001b[0m\n\u001b[0m\u001b[0;32m      5\u001b[0m \u001b[1;33m\u001b[0m\u001b[0m\n\u001b[0;32m      6\u001b[0m \u001b[0mt1\u001b[0m \u001b[1;33m=\u001b[0m \u001b[0mtime\u001b[0m\u001b[1;33m.\u001b[0m\u001b[0mtime\u001b[0m\u001b[1;33m(\u001b[0m\u001b[1;33m)\u001b[0m\u001b[1;33m\u001b[0m\u001b[0m\n",
      "\u001b[1;31mKeyboardInterrupt\u001b[0m: "
     ]
    }
   ],
   "source": [
    "t0 = time.time()\n",
    "\n",
    "a = np.random.rand(1000000000)\n",
    "b = np.random.rand(1000000000)\n",
    "\n",
    "t1 = time.time()\n",
    "\n",
    "print(t1 - t0)"
   ]
  },
  {
   "cell_type": "code",
   "execution_count": null,
   "metadata": {},
   "outputs": [],
   "source": [
    "t0 = time.time()\n",
    "\n",
    "np.dot(a,b) # transpose and multiply\n",
    "\n",
    "t1 = time.time()"
   ]
  },
  {
   "cell_type": "code",
   "execution_count": null,
   "metadata": {},
   "outputs": [],
   "source": [
    "tf = t1 - t0\n",
    "print(\"time spent on vectorization: \" + str(tf))"
   ]
  },
  {
   "cell_type": "code",
   "execution_count": null,
   "metadata": {},
   "outputs": [],
   "source": [
    "t0 = time.time()\n",
    "\n",
    "acc = 0\n",
    "for i in range(1000000000):\n",
    "    acc += a[i] * b[i]\n",
    "    \n",
    "t1 = time.time()"
   ]
  },
  {
   "cell_type": "code",
   "execution_count": null,
   "metadata": {},
   "outputs": [],
   "source": [
    "print(\"Time spent in non-vectorization\" + str(t1 - t0))"
   ]
  },
  {
   "cell_type": "markdown",
   "metadata": {},
   "source": [
    "# Broadcasting\n",
    "\n",
    "-----"
   ]
  },
  {
   "cell_type": "code",
   "execution_count": null,
   "metadata": {},
   "outputs": [],
   "source": [
    "\n",
    "arr = np.array(\n",
    "    [[56.0, 0.0, 4.4, 68.0]\n",
    "    , [1.2, 104.0, 52.0, 8.0]\n",
    "    , [1.8, 135.0, 99.0, 0.9]]\n",
    ")\n",
    "\n",
    "calories = arr.sum(axis=0)\n",
    "\n"
   ]
  },
  {
   "cell_type": "code",
   "execution_count": null,
   "metadata": {},
   "outputs": [],
   "source": [
    "print( 100 * arr / calories.reshape(1, 4) )"
   ]
  },
  {
   "cell_type": "markdown",
   "metadata": {},
   "source": [
    "### Don't use RANK1 arrays"
   ]
  },
  {
   "cell_type": "code",
   "execution_count": null,
   "metadata": {},
   "outputs": [],
   "source": [
    "# A RANK1 array, neither a ROW vector, nor a COLUMN vector\n",
    "arr = np.random.randn(5)\n",
    "arr"
   ]
  },
  {
   "cell_type": "code",
   "execution_count": null,
   "metadata": {},
   "outputs": [],
   "source": [
    "arr.shape"
   ]
  },
  {
   "cell_type": "code",
   "execution_count": null,
   "metadata": {},
   "outputs": [],
   "source": [
    "arr.T"
   ]
  },
  {
   "cell_type": "code",
   "execution_count": null,
   "metadata": {},
   "outputs": [],
   "source": [
    "arr = np.array(\n",
    "    [[56.0, 0.0, 4.4, 68.0]\n",
    "    , [1.2, 104.0, 52.0, 8.0]\n",
    "    , [1.8, 135.0, 99.0, 0.9]]\n",
    ")"
   ]
  },
  {
   "cell_type": "code",
   "execution_count": null,
   "metadata": {},
   "outputs": [],
   "source": [
    "arr.shape"
   ]
  },
  {
   "cell_type": "code",
   "execution_count": null,
   "metadata": {},
   "outputs": [],
   "source": [
    "arr = np.random.randn(5,1)\n",
    "arr"
   ]
  },
  {
   "cell_type": "code",
   "execution_count": null,
   "metadata": {},
   "outputs": [],
   "source": [
    "arr.shape"
   ]
  },
  {
   "cell_type": "code",
   "execution_count": null,
   "metadata": {},
   "outputs": [],
   "source": [
    "arr.T"
   ]
  },
  {
   "cell_type": "markdown",
   "metadata": {},
   "source": [
    "-----\n",
    "Computer Programming Language\n",
    ".Properties\n",
    "# .Readability\n",
    "\n",
    "Readability is a property of computer applications with direct implications in properties such as **Scalability** and **Maintenance**. Readability is enforced by [good practices](https://code.tutsplus.com/tutorials/top-15-best-practices-for-writing-super-readable-code--net-8118).\n",
    "\n",
    "Properties such as **Application Structure** also influence properties such as **Scalability** and **Maintenance**."
   ]
  },
  {
   "cell_type": "markdown",
   "metadata": {},
   "source": [
    "-----\n",
    "Computer Programming Language\n",
    ".Properties\n",
    "# .Mutability and Immutability\n",
    "\n",
    "Mutability is **change that does not affect the identity**. Immutability is **equivalence between state and identity**."
   ]
  },
  {
   "cell_type": "markdown",
   "metadata": {},
   "source": [
    "-----\n",
    "Computer Programming Language\n",
    ".Properties\n",
    "# .Substitution Model\n",
    "\n",
    "The **substitution model** is formalized in the $\\lambda$-calculus (a foundation for functional programming). Every expression computes to a value. This model can express every algorithm, being equivalent to a **Turing Machine**.\n",
    "\n",
    "Expressions with **side-effects** cannot be represented by the $\\lambda$-calculus.</p>\n",
    "**Example:**\n",
    "```java\n",
    "c = 1\n",
    "System.out.println(c++);\n",
    "System.out.println(c);\n",
    "```\n",
    "\n",
    "**Output**   \n",
    "\n",
    "1 </p>\n",
    "2\n",
    "\n",
    "Do all expressions reduce to values in the SModel? No.</p>\n",
    "**Example:**\n",
    "\n",
    "```scala    \n",
    "def loop: Int = loop\n",
    "loop\n",
    "```"
   ]
  },
  {
   "cell_type": "markdown",
   "metadata": {},
   "source": [
    "-----\n",
    "Computer Programming Language.Properties.\n",
    "# Evaluation strategies: Call-by-value and Call-by-name\n",
    "\n",
    "**Call-by-value, CBV**:\n",
    "\n",
    "    1    sumOfSquares(3, 2 + 2)\n",
    "    2    sumOfSquares(3, 4)\n",
    "    3    square(3) + square(4)\n",
    "    4    3 * 3 + square(4)\n",
    "    5    3 * 3 + 4 * 4\n",
    "    6    9 + 4 * 4\n",
    "    7    9 + 16\n",
    "    8    25\n",
    "    \n",
    "**Advantages**: Evaluates a function argument only once (Call-by-name, steps 5-6: performs *2 + 2* twice). Usually exponentially more efficient than CBN.\n",
    "    \n",
    "**Call-by-name, CBN**:\n",
    "\n",
    "    1    sumOfSquares(3, 2 + 2)\n",
    "    2    square(3) + square(2 + 2)\n",
    "    3    3 * 3 + square(2 + 2)\n",
    "    4    9 + square(2 + 2)\n",
    "    5    9 + (2 + 2) + (2 + 2) \n",
    "    6    9 + 4 + (2 + 2)\n",
    "    7    9 + 4 * 4\n",
    "    8    9 + 16\n",
    "    9    25\n",
    "\n",
    "**Advantages**: A function argument is not evaluated if it is not used in the evaluation. \n",
    "\n",
    "Both strategies **evaluate an expression to a value** *iff*: \n",
    "+ reduced expressions consist only of *pure functions* and \n",
    "+ all evaluations terminate.\n",
    "\n",
    "**Properties**:\n",
    "+ Evaluation **terminates** $\\Longleftrightarrow$ Reduced expressions consist only of *pure functions* $\\bigwedge$ all evaluations terminate\n",
    "+ CBV terminates $\\Longrightarrow$ CBN terminates\n",
    "\n",
    "Example:\n",
    "\n",
    "```scala\n",
    "def f(x: Int, y: Int) : Int = x\n",
    "def g(x: Int, y: => Int) : Int = x\n",
    "```\n",
    "\n",
    "Call-by-value, CBV:  \n",
    "    \n",
    "    1    f(1, loop)\n",
    "    2    f(1, loop)\n",
    "    3    ...\n",
    "    4    f(1, loop)\n",
    "    5    ...\n",
    "\n",
    "Call-by-name, CBN:\n",
    "\n",
    "    1    f(1, loop)\n",
    "    2    1\n",
    "    \n",
    "Scala uses **CBV** and **CBN** whenever the argument as the tokens **=>**. Example:\n",
    "\n",
    "    1    f(1, loop)\n",
    "    2    f(1, loop)\n",
    "    3    ...\n",
    "    4    f(1, loop)\n",
    "    5    ...\n",
    "    \n",
    "    1    g(1, loop)\n",
    "    2    1\n",
    "    "
   ]
  },
  {
   "cell_type": "markdown",
   "metadata": {},
   "source": [
    "-----\n",
    "Computer Programming Language.Properties.\n",
    "# Call-by-value and Call-by-reference"
   ]
  },
  {
   "cell_type": "markdown",
   "metadata": {},
   "source": [
    "-----\n",
    "Computer Programming Language.Properties.\n",
    "# Conditional Expressions"
   ]
  },
  {
   "cell_type": "markdown",
   "metadata": {},
   "source": [
    "-----\n",
    "# Algorithms\n",
    "\n",
    "Algorithms are a finite series of well-defined steps to reduce an expression to a value. The expression is reasoning of a solution to a problem, the value is the solution for the problem."
   ]
  },
  {
   "cell_type": "code",
   "execution_count": null,
   "metadata": {},
   "outputs": [],
   "source": []
  },
  {
   "cell_type": "markdown",
   "metadata": {},
   "source": [
    "-----\n",
    "Algorithms.\n",
    "\n",
    "# Newton's Method\n",
    "\n",
    "Newton's algorithm for finding root solutions for real valued functions.\n",
    "\n",
    "## Implementations\n",
    "\n",
    "[Mathematical](https://en.wikipedia.org/wiki/Newton%27s_method)\n",
    "\n",
    "**Scala**:\n",
    "```scala\n",
    "def sqrt(root: Double): Double = {\n",
    "\n",
    "  def inRadius(guess: Double) : Boolean = abs(guess * guess - root) / root < 0.0001\n",
    "\n",
    "  def approach(guess: Double): Double = ((root / guess) + guess) / 2\n",
    "\n",
    "  def sqrNewton(guess: Double) : Double =\n",
    "    if (inRadius(guess)) guess\n",
    "    else sqrNewton(approach(guess))\n",
    "\n",
    "  // the last element defines the value\n",
    "  sqrNewton(1.0)\n",
    "\n",
    "} + 0\n",
    "```\n",
    "\n",
    "    \n",
    "**Disadvantages**:\n",
    "For *r* $\\in [0, 1]$, (*guess* \\* *guess*) $\\longrightarrow$ 0 $\\Longrightarrow$ (*guess* \\* *guess* - *r*) $\\longrightarrow$ *r* $\\geq$ *radius*\n",
    "\n",
    "For very large *r*, there will be **overflow**.\n",
    "\n",
    "Therefore the *inRadius* test is made relatively to *root*"
   ]
  },
  {
   "cell_type": "markdown",
   "metadata": {},
   "source": [
    "-----\n",
    "Algorithms.\n",
    "\n",
    "# Euclid's GCD\n",
    "\n",
    "## Implementations\n",
    "\n",
    "[Mathematical](https://en.wikipedia.org/wiki/Newton%27s_method)\n",
    "\n",
    "**Scala**:\n",
    "```scala\n",
    "def factorial (x: Double): Double = {\n",
    "  def rec (x: Double, acc: Double): Double =\n",
    "    if (x <= 0) acc\n",
    "    else rec(x - 1, acc * x)\n",
    "  rec(x, 1.0)\n",
    "}\n",
    "```\n",
    "\n",
    "    \n",
    "**Disadvantages**:"
   ]
  },
  {
   "cell_type": "markdown",
   "metadata": {},
   "source": [
    "-----\n",
    "Algorithms.\n",
    "\n",
    "# Newton's Binomium"
   ]
  },
  {
   "cell_type": "markdown",
   "metadata": {},
   "source": [
    "-----\n",
    "Algorithms.\n",
    "\n",
    "# Factorial\n",
    "\n",
    "## Implementations\n",
    "\n",
    "[Mathematical]()\n",
    "\n",
    "**Scala**:\n",
    "```scala\n",
    "def sqrt(root: Double): Double = {\n",
    "\n",
    "  def inRadius(guess: Double) : Boolean = abs(guess * guess - root) / root < 0.0001\n",
    "\n",
    "  def approach(guess: Double): Double = ((root / guess) + guess) / 2\n",
    "\n",
    "  def sqrNewton(guess: Double) : Double =\n",
    "    if (inRadius(guess)) guess\n",
    "    else sqrNewton(approach(guess))\n",
    "\n",
    "  // the last element defines the value\n",
    "  sqrNewton(1.0)\n",
    "\n",
    "} + 0\n",
    "```"
   ]
  },
  {
   "cell_type": "markdown",
   "metadata": {},
   "source": [
    "-----\n",
    "Computer Programming Language.Properties\n",
    "# Recursion and Tail Recursion\n",
    "\n",
    "Recursion uses a method's **stack frame** (limited up to 1000 in the JVM). Whenever a method is deeply recursive, use **Tail Recursion**: reuse the stack frame of the method.\n",
    "```scala\n",
    "import scala.annotation.tailrec\n",
    "@tailrec\n",
    "def gcd(a: Int, b: Int): Int = if (b == 0) a else gcd(b, a % b)\n",
    "```"
   ]
  },
  {
   "cell_type": "markdown",
   "metadata": {},
   "source": [
    "<a id='ai'></a>\n",
    "[/](#root)\n",
    "\n",
    "-----\n",
    "# Artificial Intelligence\n",
    "\n",
    "AI are complex algorithms one can say to be *intelligent*."
   ]
  },
  {
   "cell_type": "markdown",
   "metadata": {},
   "source": [
    "<a id='machine_learning'></a>\n",
    "[/ Artificial Intelligence](#ai)\n",
    "\n",
    "-----\n",
    "\n",
    "# Machine Learning\n",
    "\n",
    "Machine learning is a field of AI where **algorithms** are developed by the program itself, rather than by the programmer."
   ]
  },
  {
   "cell_type": "markdown",
   "metadata": {},
   "source": [
    "<a id='deep_learning'></a>\n",
    "[/ Artificial Intelligence / Machine Learning](#machine_learning)\n",
    "\n",
    "-----\n",
    "\n",
    "# Deep Learning\n",
    "\n",
    "Key terms: <font color=\"blue\">dataset, training dataset, test dataset, neural network, activation function</font>\n",
    "\n",
    "Deep learning is a field of machine learning. It extrapolates information from data by **training the algorithm** from a **training dataset**. For small training datasets, traditional learning algorithms were sufficient. For large training datasets, neural networks excelled. Neural networks evolved by innovation in the **activation function** (ex.: switching from a $\\sigma$-oid function to a *RELU*-function)\n",
    "\n",
    "## Contents\n",
    "\n",
    "+ Neural Networks [$\\rightleftharpoons$](#neural_networks)\n",
    "    + Recurrent Neural Networks\n",
    "    + Standard Neural Networks\n",
    "    + Convolutional Neural Networks\n",
    "+ Supervised Learning [$\\rightleftharpoons$](#deep_learning)\n",
    "+ Binary Classification [$\\rightleftharpoons$](#deep_learning)\n",
    "+ Logistic Regression [$\\rightleftharpoons$](#deep_learning)\n",
    "+ Cost and Loss Functions [$\\rightleftharpoons$](#deep_learning)\n",
    "+ Gradient Descent [$\\rightleftharpoons$](#deep_learning)\n",
    "+ Computation Graph [$\\rightleftharpoons$](#deep_learning)\n",
    "+ Logistic Regression and Gradient Descent [$\\rightleftharpoons$](#deep_learning)\n",
    "+ Vectorization [$\\rightleftharpoons$](#deep_learning)\n",
    "\n",
    "<a id='neural_networks'></a>\n",
    "[/ Artificial Intelligence / Machine Learning / Deep Learning](#machine_learning)\n",
    "\n",
    "-----\n",
    "\n",
    "# Neural Networks\n",
    "\n",
    "An **oriented graph** whose nodes are **functions** $f$, whose input lines are **input values to** $f$, and whose output lines are **output values** to other nodes/functions. There are:\n",
    "\n",
    "+ Recurrent Neural Networks\n",
    "+ Standard Neural Networks\n",
    "+ Convolutional Neural Networks\n",
    "\n",
    "<a id='supervised_learning'></a>\n",
    "[/ Artificial Intelligence / Machine Learning / Deep Learning](#machine_learning)\n",
    "\n",
    "-----\n",
    "\n",
    "# Supervised Learning\n",
    "\n",
    "Learning is supervised when there is a **labelled training set**. Images are encoded into vectors. Iteratively, optimal values for W and b for all images of the training set are found. By then, the test set can be labelled.\n",
    "\n",
    "<a id='binary_classification'></a>\n",
    "[/ Artificial Intelligence / Machine Learning / Deep Learning](#machine_learning)\n",
    "\n",
    "-----\n",
    "\n",
    "# Binary Classification\n",
    "\n",
    "Binary Classification is an **application** $BC$ mapping the encoding of an image to a classification of either 1 or 0. *E.g.:* Is it a cat? Is it not a cat?\n",
    "\n",
    "$$BC : \\mathbb{N}^{mxnx3} \\longrightarrow \\{0, 1\\} \\tag{1}$$\n",
    "\n",
    "If $m=n$, $X \\in  \\mathbb{N}^{n_x}$, being $x$ the square image. Given that the **training set** consists of $M$ training examples, there are $M$ respective encodings for every training image $x^{(i)},\\, i \\leq M$. These are assembled in the **matrix** $X$:\n",
    "\n",
    "$$X \\in M_{(mxnx3)xM} (\\mathbb{N}) \\tag{3}$$\n",
    "\n",
    "Where $x^{(i)}$ coordinates are distributed along the column $i$ of X. The classifications are assembled in the **vector** $Y$:\n",
    "\n",
    "$$ Y = (x^{(1)}, ..., x^{(m)}) \\tag{4}$$\n",
    "\n",
    "Is is created a labbeled **training set** $TS$ of images:\n",
    "\n",
    "$$ TS = \\{(x^{(i)}, y^{(i)}) : i \\leq M\\}\\tag{2}$$\n",
    "\n",
    "With $y^{(i)}$, the correct classification of $x^{(i)}$. \n",
    "\n",
    "The objective is to train a neural network that can correctly label images from a **test set** $TS*$:\n",
    "\n",
    "$$ TS* = \\{(x*^{(i)}\\}\\tag{2}$$\n",
    "\n",
    "That is, to perform a **binary classification**.\n",
    "\n",
    "<a id='logistic_regression'></a>\n",
    "[/ Artificial Intelligence / Machine Learning / Deep Learning / Binary Classification](#machine_learning)\n",
    "\n",
    "-----\n",
    "\n",
    "# Logistic Regression\n",
    "\n",
    "Logistic regression is an algorithm for **binary classification**, which consists of training a neural network over $TS$. The neural network **estimates** whether $x^{(i)}$ corresponds to $y^{(i)}$. This estimation is a computation denoted by $\\hat{y}^{(i)}$. This computation is performed iteratively, improving $\\hat{y}^{(i)}$ each step. This estimation is modelled as a **measure of probability** and is thus defined as:\n",
    "\n",
    "$$ \\hat{y}^{(i)} := P( y^{(i)} = 1 \\:\\mid\\: x^{(i)} ) \\in [0, 1] \\tag{1}$$\n",
    "\n",
    "The estimates of the classifications are assembled in the **vector** $\\hat{Y}$:\n",
    "\n",
    "$$ \\hat{Y} = (\\hat{y}^{(1)}, ..., \\hat{y}^{(m)}) \\tag{2}$$\n",
    "\n",
    "The **linear regression** algorithm uses the linear combination $W^TX + b$ to attain $\\hat{y}^{(i)}$. Reducing this value to boundaries whithin $[0, 1]$ takes a transformation $\\sigma$ that satisfies:\n",
    "\n",
    "$$\\sigma(x) \\in [0, 1]\\tag{3}$$\n",
    "$$\\lim_{x \\to +\\infty} \\sigma(x) \\longrightarrow 1\\tag{4}$$\n",
    "$$\\lim_{x \\to -\\infty} \\sigma(x) \\longrightarrow 0\\tag{5}$$\n",
    "\n",
    "And so a definition arises:\n",
    "\n",
    "$$\\sigma(x) = \\frac{1}{1 + e^{-x}}\\tag{6}$$\n",
    "\n",
    "$\\hat{Y}$ is thus attained as: \n",
    "\n",
    "$$ \\hat{Y} = \\sigma(W^TX + b) = \\frac{1}{1 + e^{-(W^TX + b)}}\\tag{7}$$\n",
    "\n",
    "**The $\\sigma$ function:**\n",
    "+ [wolphram](https://www.wolframalpha.com/input/?i=1+%2F+(1+%2B+e%5E(-x)\n",
    "\n",
    "+ **python:**"
   ]
  },
  {
   "cell_type": "code",
   "execution_count": 31,
   "metadata": {},
   "outputs": [
    {
     "data": {
      "text/plain": [
       "[<matplotlib.lines.Line2D at 0x2cf2a619048>]"
      ]
     },
     "execution_count": 31,
     "metadata": {},
     "output_type": "execute_result"
    },
    {
     "data": {
      "image/png": "[encoded data removed]",
      "text/plain": [
       "<matplotlib.figure.Figure at 0x2cf2a648048>"
      ]
     },
     "metadata": {},
     "output_type": "display_data"
    }
   ],
   "source": [
    "def sigma(x):\n",
    "    return 1 / (1 + np.exp(-x))\n",
    "\n",
    "import matplotlib.pyplot as plt\n",
    "import numpy as np\n",
    "xx = np.arange(-5., 5., .1)\n",
    "plt.text(.0, .9, r'$\\sigma(x)$', fontsize=20)\n",
    "plt.plot(xx, sigma(xx))"
   ]
  },
  {
   "cell_type": "markdown",
   "metadata": {},
   "source": [
    "$W \\in \\mathbb{R}^{n_x}$ and $b \\in \\mathbb{R}$ (the latest called an *interceptor*) are thus parameters to this algorithm and arguments to $\\hat{Y}$. Training the neural network is understanding the values for $W, b$ that give good estimates: $\\hat{y}^{(i)} \\simeq y^{(i)}$. Again, this is attained iteratively on a process of improvement of the estimates.\n",
    "\n",
    "\n",
    "<a id='cost_loss_functions'></a>\n",
    "[/ Artificial Intelligence / Machine Learning / Deep Learning / Binary Classification / Logistic Regression](#logistic_regression)\n",
    "\n",
    "-----\n",
    "\n",
    "# Cost and Loss Functions\n",
    "\n",
    "Each iteration evaluates the fitness or the loss of $\\hat{y}$ in relation to $y$, say $\\mathcal{C}$ for **cost**. Function of $\\hat{y}$ and $y$, $\\mathcal{C}$  is required to satisfy that:\n",
    "\n",
    "$$ y = 1 \\:then: \\hat{y} \\longrightarrow 1 \\Longrightarrow \\mathcal{C}(\\hat{y}, y) \\longrightarrow 0\\tag{1.1}$$\n",
    "$$ y = 1 \\:then: \\hat{y} \\longrightarrow 0 \\Longrightarrow \\mathcal{C}(\\hat{y}, y) \\longrightarrow +\\infty\\tag{1.2}$$\n",
    "$$ y = 0 \\:then: \\hat{y} \\longrightarrow 1 \\Longrightarrow \\mathcal{c}(\\hat{y}, y) \\longrightarrow 0\\tag{2.1}$$\n",
    "$$ y = 0 \\:then: \\hat{y} \\longrightarrow 0 \\Longrightarrow \\mathcal{C}(\\hat{y}, y) \\longrightarrow +\\infty\\tag{2.2}$$\n",
    "$$\\mathcal{C} \\:be \\:convex\\tag{3}$$\n",
    "\n",
    "The last condition ensures that $\\mathcal{C}$ has an **absolute minimum** ([$\\rightleftharpoons$](#functions_properties)), otherwise an optimal solution $(W, b)$ might not be found.\n",
    "A definition arises:\n",
    "\n",
    "$$\\mathcal{C}(\\hat{y}, y) = log(\\hat{y}^y\\,(1 - \\hat{y})^{(1 - y)}) = -(ylog(\\hat{y}) + (1 - y)log(1 - \\hat{y}))\\tag{4}$$\n",
    "\n",
    "The cost function $\\mathcal{L}(W, b)$ can simply be the mean of the loss over the training set:\n",
    "\n",
    "$$\\mathcal{L}(W, b) = \\frac{1}{M}\\sum_{1}^{M}\\mathcal{C}(\\hat{y}^{(i)}, y^{(i)}) $$\n",
    "\n",
    "Learning is thus a matter of minimizing $\\mathcal{L}$ in relation to the **training set**.\n",
    "\n",
    "<a id='gradient_descent'></a>\n",
    "[/ Artificial Intelligence / Machine Learning / Deep Learning / Binary Classification](#machine_learning)\n",
    "\n",
    "-----\n",
    "\n",
    "# Gradient Descent\n",
    "\n",
    "Granted that the loss function is convex, find the absolute minimum by iterating:\n",
    "\n",
    "$$x_i := x_i - \\alpha \\frac{\\partial}{\\partial x_i}\\mathcal{L}(x_1,\\,.\\,.\\,.,x_i,\\,.\\,.\\,.,x_{3mn + 1})\\tag{1}$$\n",
    "$$x_i \\in \\{w_{1},\\,.\\,.\\,.,w_{3mn}, b\\}\\tag{1.1}$$\n",
    "\n",
    "\n",
    "$\\alpha$ is the *rate of descent*, $w_{i}$ are the coordinates of $W$. If the derivative increases, go back. Continue otherwise."
   ]
  }
 ],
 "metadata": {
  "kernelspec": {
   "display_name": "Python 3",
   "language": "python",
   "name": "python3"
  },
  "language_info": {
   "codemirror_mode": {
    "name": "ipython",
    "version": 3
   },
   "file_extension": ".py",
   "mimetype": "text/x-python",
   "name": "python",
   "nbconvert_exporter": "python",
   "pygments_lexer": "ipython3",
   "version": "3.6.4"
  }
 },
 "nbformat": 4,
 "nbformat_minor": 2
}
